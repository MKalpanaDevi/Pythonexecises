{
 "cells": [
  {
   "cell_type": "code",
   "execution_count": 6,
   "id": "53ee5550",
   "metadata": {},
   "outputs": [
    {
     "name": "stdout",
     "output_type": "stream",
     "text": [
      "Requirement already satisfied: pywebio in c:\\users\\91755\\anaconda3\\lib\\site-packages (1.8.2)\n",
      "Requirement already satisfied: tornado>=5.0 in c:\\users\\91755\\anaconda3\\lib\\site-packages (from pywebio) (6.2)\n",
      "Requirement already satisfied: user-agents in c:\\users\\91755\\anaconda3\\lib\\site-packages (from pywebio) (2.2.0)\n",
      "Requirement already satisfied: ua-parser>=0.10.0 in c:\\users\\91755\\anaconda3\\lib\\site-packages (from user-agents->pywebio) (0.18.0)\n"
     ]
    }
   ],
   "source": [
    "!pip install pywebio "
   ]
  },
  {
   "cell_type": "code",
   "execution_count": 4,
   "id": "a785bcf1",
   "metadata": {},
   "outputs": [],
   "source": [
    "from pywebio.input import*\n",
    "from pywebio.output import*"
   ]
  },
  {
   "cell_type": "code",
   "execution_count": 2,
   "id": "b68c357c",
   "metadata": {},
   "outputs": [],
   "source": [
    "answer = radio(\"1.What is the maximum possible length of an identifier?\", options=['16', '32', '64', 'None of the above'])"
   ]
  },
  {
   "cell_type": "code",
   "execution_count": 3,
   "id": "d9a49d6e",
   "metadata": {},
   "outputs": [
    {
     "ename": "NameError",
     "evalue": "name 'radio' is not defined",
     "output_type": "error",
     "traceback": [
      "\u001b[1;31m---------------------------------------------------------------------------\u001b[0m",
      "\u001b[1;31mNameError\u001b[0m                                 Traceback (most recent call last)",
      "Cell \u001b[1;32mIn[3], line 1\u001b[0m\n\u001b[1;32m----> 1\u001b[0m answer \u001b[38;5;241m=\u001b[39m radio(\u001b[38;5;124m\"\u001b[39m\u001b[38;5;124m2.Who developed the pyhton program?\u001b[39m\u001b[38;5;124m\"\u001b[39m, options\u001b[38;5;241m=\u001b[39m[\u001b[38;5;124m'\u001b[39m\u001b[38;5;124mZim Den\u001b[39m\u001b[38;5;124m'\u001b[39m, \u001b[38;5;124m'\u001b[39m\u001b[38;5;124mGuido van Rossum\u001b[39m\u001b[38;5;124m'\u001b[39m, \u001b[38;5;124m'\u001b[39m\u001b[38;5;124mNiene Stom\u001b[39m\u001b[38;5;124m'\u001b[39m, \u001b[38;5;124m'\u001b[39m\u001b[38;5;124mwick van rossum\u001b[39m\u001b[38;5;124m'\u001b[39m])\n",
      "\u001b[1;31mNameError\u001b[0m: name 'radio' is not defined"
     ]
    }
   ],
   "source": [
    "answer = radio(\"2.Who developed the pyhton program?\", options=['Zim Den', 'Guido van Rossum', 'Niene Stom', 'wick van rossum'])"
   ]
  },
  {
   "cell_type": "code",
   "execution_count": 7,
   "id": "56c94382",
   "metadata": {},
   "outputs": [],
   "source": [
    "answer = radio(\"3.in which year was the python language developed?\", options=['1995', '1972', '1981', '1989'])"
   ]
  },
  {
   "cell_type": "code",
   "execution_count": 9,
   "id": "f5d5aa4e",
   "metadata": {},
   "outputs": [],
   "source": [
    "answer = radio(\"4.In which program language is python written?\", options=['Backward skip 10s', 'play vedio', 'forward skip 10s', 'None of the above'])"
   ]
  },
  {
   "cell_type": "code",
   "execution_count": 11,
   "id": "4bf1de23",
   "metadata": {},
   "outputs": [],
   "source": [
    "answer = radio(\"5.what one of the following is the coerrect extension of the python file?\", options=['.py', '.python', '.p', 'None of the above'])"
   ]
  },
  {
   "cell_type": "code",
   "execution_count": 13,
   "id": "f85ed369",
   "metadata": {},
   "outputs": [],
   "source": [
    "answer = radio(\"6.in which year was the pythonm 3.0 version developed?\", options=['2008', '2000', '2010', '2005'])"
   ]
  },
  {
   "cell_type": "code",
   "execution_count": 15,
   "id": "939488ef",
   "metadata": {},
   "outputs": [],
   "source": [
    "answer = radio(\"7.what do w use to define a block of code in python language?\", options=['key', 'brackets', 'indentation', 'None of the above'])"
   ]
  },
  {
   "cell_type": "code",
   "execution_count": 17,
   "id": "e915797c",
   "metadata": {},
   "outputs": [],
   "source": [
    "answer = radio(\"8. which character is used in  python to make a single line comment?\", options=['/', '//', '&', '!'])"
   ]
  },
  {
   "cell_type": "code",
   "execution_count": 19,
   "id": "b2fde389",
   "metadata": {},
   "outputs": [],
   "source": [
    "answer = radio(\"9.which of the following statement is correct regarding the object-oriented programming concept in python ?\", options=['Classes are real-world entities while objects are not real', 'Objects are real-world entities while classes are not real', 'Both objects and classes are real-world entities', 'all of the above'])"
   ]
  },
  {
   "cell_type": "code",
   "execution_count": 21,
   "id": "b26c5508",
   "metadata": {},
   "outputs": [],
   "source": [
    "answer = radio(\"10.which of the following statements is correct in this python code?\", options=['def __init__(javatpoint):  javajavatpoint = java  name1=Name(\"ABC\")  name2=name1 ', '    It will throw the error as multiple references to the same object is not possible', 'Both name1 and name2 will have reference to two different objects of class Name', 'all the above'])"
   ]
  },
  {
   "cell_type": "code",
   "execution_count": 23,
   "id": "2d2f840b",
   "metadata": {},
   "outputs": [],
   "source": [
    "answer = radio(\"11.what is the method inside the class in python language?\", options=['object', 'function', 'attribute', 'argument'])"
   ]
  },
  {
   "cell_type": "code",
   "execution_count": 25,
   "id": "8c7b9627",
   "metadata": {},
   "outputs": [],
   "source": [
    "answer = radio(\"12.which of the following declaration is incorrect?\", options=['_x=2', '__x=3', '__xyz_=5', 'none of these'])"
   ]
  },
  {
   "cell_type": "code",
   "execution_count": 27,
   "id": "e659fc86",
   "metadata": {},
   "outputs": [],
   "source": [
    "answer = radio(\"13.why does the name of local variables start with an underscore discouraged?\", options=['to dentify the variable', 'it confuses the interpreter', 'it indicates a private variable of a class', 'none of these '])"
   ]
  },
  {
   "cell_type": "code",
   "execution_count": 30,
   "id": "c2bbf7dd",
   "metadata": {},
   "outputs": [],
   "source": [
    "answer = radio(\"14.which of the following is not a keyword in python language?\", options=['val', 'raise', 'try', 'with'])"
   ]
  },
  {
   "cell_type": "code",
   "execution_count": 32,
   "id": "81ef7881",
   "metadata": {},
   "outputs": [],
   "source": [
    "answer = radio(\"15.which of the following words connot be a variable in python language?\", options=['_val', 'val', 'try', '_try_'])"
   ]
  }
 ],
 "metadata": {
  "kernelspec": {
   "display_name": "Python 3 (ipykernel)",
   "language": "python",
   "name": "python3"
  },
  "language_info": {
   "codemirror_mode": {
    "name": "ipython",
    "version": 3
   },
   "file_extension": ".py",
   "mimetype": "text/x-python",
   "name": "python",
   "nbconvert_exporter": "python",
   "pygments_lexer": "ipython3",
   "version": "3.11.3"
  }
 },
 "nbformat": 4,
 "nbformat_minor": 5
}
