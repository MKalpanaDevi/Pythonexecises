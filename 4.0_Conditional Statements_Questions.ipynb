{
 "cells": [
  {
   "cell_type": "code",
   "execution_count": 14,
   "metadata": {},
   "outputs": [
    {
     "name": "stdout",
     "output_type": "stream",
     "text": [
      "enter the value2\n",
      "the given num is even\n"
     ]
    }
   ],
   "source": [
    "# Write a program to find given number is odd or even \n",
    "x = 45\n",
    "#Your Answer\n",
    "\n",
    "\n",
    "\n",
    "a=int(input(\"enter the value\"))\n",
    "       \n",
    "    \n",
    "if(a % 2) ==0:\n",
    "     print(\"the given num is even\")\n",
    "else:\n",
    "     print(\"the given num is odd\")\n",
    "\n",
    "\n",
    "\n",
    "\n"
   ]
  },
  {
   "cell_type": "code",
   "execution_count": 15,
   "metadata": {},
   "outputs": [
    {
     "name": "stdout",
     "output_type": "stream",
     "text": [
      "it is leap year\n"
     ]
    }
   ],
   "source": [
    "#Write a program to find the given year is leap year or not\n",
    "year = 2020\n",
    "#Your Answer\n",
    "a=2020\n",
    "if(a%4)==0:\n",
    "    print(\"it is leap year\")\n",
    "\n",
    "\n",
    "\n",
    "\n",
    "\n",
    "\n"
   ]
  },
  {
   "cell_type": "code",
   "execution_count": 16,
   "metadata": {},
   "outputs": [
    {
     "name": "stdout",
     "output_type": "stream",
     "text": [
      "enter the age4\n",
      "you cannot vote\n"
     ]
    }
   ],
   "source": [
    "# Write a program to print \"You can Vote\" or \"You Cannot Vote\n",
    "\n",
    "a=int(input(\"enter the age\"))\n",
    "if(a>18):\n",
    "    print(\"you can vote\")\n",
    "else:\n",
    "    print(\"you cannot vote\")\n",
    "\n",
    "\n",
    "\n",
    "\n"
   ]
  },
  {
   "cell_type": "code",
   "execution_count": 8,
   "metadata": {},
   "outputs": [
    {
     "name": "stdout",
     "output_type": "stream",
     "text": [
      "enter the num1 33\n",
      "enter the num2 44\n",
      "enter the num3 22\n",
      "b is greater \n"
     ]
    }
   ],
   "source": [
    "# Write a program to find greatest of three numbers\n",
    "\n",
    "a=int(input(\"enter the num1 \"))\n",
    "b=int(input(\"enter the num2 \"))\n",
    "c=int(input(\"enter the num3 \"))\n",
    "if(a>=b)and(a>=c):\n",
    "    print(\"a is greater \")\n",
    "elif(b>=c)and(b>=a):\n",
    "    print(\"b is greater \")\n",
    "else:\n",
    "    print(\"c is greater \")\n",
    "\n",
    "\n",
    "\n",
    "\n",
    "\n",
    "\n",
    "\n"
   ]
  },
  {
   "cell_type": "code",
   "execution_count": 11,
   "metadata": {},
   "outputs": [
    {
     "name": "stdout",
     "output_type": "stream",
     "text": [
      "enter the num1 999\n",
      "enter the num2 1\n",
      "great\n"
     ]
    }
   ],
   "source": [
    "#Write a program to print \"Super\" if the sum of number is \"less\" than 1000 and \"great\" if the sum of number is greater than 1000\n",
    "\n",
    "a=int(input(\"enter the num1 \"))\n",
    "b=int(input(\"enter the num2 \"))\n",
    "c=a+b\n",
    "if(c<1000):\n",
    "    print(\"super\")\n",
    "else:\n",
    "    print(\"great\")"
   ]
  },
  {
   "cell_type": "code",
   "execution_count": null,
   "metadata": {},
   "outputs": [],
   "source": []
  }
 ],
 "metadata": {
  "kernelspec": {
   "display_name": "Python 3 (ipykernel)",
   "language": "python",
   "name": "python3"
  },
  "language_info": {
   "codemirror_mode": {
    "name": "ipython",
    "version": 3
   },
   "file_extension": ".py",
   "mimetype": "text/x-python",
   "name": "python",
   "nbconvert_exporter": "python",
   "pygments_lexer": "ipython3",
   "version": "3.11.3"
  }
 },
 "nbformat": 4,
 "nbformat_minor": 2
}
