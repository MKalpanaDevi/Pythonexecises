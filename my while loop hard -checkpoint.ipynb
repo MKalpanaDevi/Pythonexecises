{
 "cells": [
  {
   "cell_type": "code",
   "execution_count": 2,
   "id": "6dd93446",
   "metadata": {},
   "outputs": [
    {
     "name": "stdout",
     "output_type": "stream",
     "text": [
      "enter the 1st value:24\n",
      "rnter the 2nd value:22\n",
      "264\n"
     ]
    }
   ],
   "source": [
    "'''1. Write a Python program to find the least common multiple (LCM) of two given integers.\n",
    "    Data:\n",
    "        lcm(4, 6)\n",
    "        lcm(15, 17)\n",
    "    Expected Output:\n",
    "        12\n",
    "        255'''\n",
    "import math\n",
    "a=int(input(\"enter the 1st value:\"))\n",
    "b=int(input(\"rnter the 2nd value:\"))\n",
    "lcm=math.lcm(a,b)\n",
    "print(lcm)\n"
   ]
  },
  {
   "cell_type": "code",
   "execution_count": 2,
   "id": "c6874f5c",
   "metadata": {},
   "outputs": [
    {
     "name": "stdout",
     "output_type": "stream",
     "text": [
      "enter the number to be cube:3\n",
      "sum of cube value is : 27\n"
     ]
    }
   ],
   "source": [
    "'''2. Write a Python function that takes a positive integer and returns the sum of the cube of all the positive integers \n",
    "   smaller than the specified number.\n",
    "    Data:\n",
    "        3\n",
    "    Expected Output:\n",
    "        Sum of cubes:  9'''\n",
    "\n",
    "\n",
    "i=int(input(\"enter the number to be cube:\"))\n",
    "x=i*i*i\n",
    "print(\"sum of cube value is :\",x)\n",
    "            \n",
    "         "
   ]
  },
  {
   "cell_type": "code",
   "execution_count": 3,
   "id": "f7606088",
   "metadata": {},
   "outputs": [
    {
     "name": "stdout",
     "output_type": "stream",
     "text": [
      "5\n",
      "6\n",
      "7\n"
     ]
    }
   ],
   "source": [
    "'''5. Write a Python program to find the value of n where n degrees of number 2 are written sequentially in a line without spaces.\n",
    "    Data:\n",
    "        \"2481632\"\n",
    "        \"248163264\"\n",
    "    Expected Output:\n",
    "        5\n",
    "        6'''\n",
    "def ndegrees(num):\n",
    "  ans = True\n",
    "  n, tempn, i = 2, 2, 2\n",
    "  while ans:\n",
    "    if str(tempn) in num:\n",
    "      i += 1\n",
    "      tempn = pow(n, i)\n",
    "    else:\n",
    "      ans = False\n",
    "  return i-1;\n",
    "print(ndegrees(\"2481632\"))\n",
    "print(ndegrees(\"248163264\"))\n",
    "print(ndegrees(\"248163264128\"))"
   ]
  },
  {
   "cell_type": "code",
   "execution_count": null,
   "id": "0599c8a8",
   "metadata": {},
   "outputs": [],
   "source": [
    "'''6. Write a Python program that accept a positive number and subtract from this number the sum of its digits and so on. \n",
    "   Continues this operation until the number is positive.\n",
    "    Data:\n",
    "        9\n",
    "        21\n",
    "    Expected Output:\n",
    "        1\n",
    "        3'''\n"
   ]
  },
  {
   "cell_type": "code",
   "execution_count": null,
   "id": "d8b4bc57",
   "metadata": {},
   "outputs": [],
   "source": [
    "'''8. Write a Python program to find common divisors between two numbers in a given pair.\n",
    "    Data:\n",
    "        (2, 4)\n",
    "        (2, 8)\n",
    "        (12, 24)\n",
    "    Expected Output:\n",
    "        Number of common divisors:  2\n",
    "        Number of common divisors:  2\n",
    "        Number of common divisors:  6'''\n",
    "a=int(input(\"enter the first num:\"))\n",
    "b=int(input(\"enter the second num:\"))\n",
    "n=0\n",
    "if i in range(1,min(a,b)+1):\n",
    "    if a%i==b%i==0:\n",
    "        n=1\n",
    "        print(n)\n"
   ]
  },
  {
   "cell_type": "code",
   "execution_count": null,
   "id": "067ef354",
   "metadata": {},
   "outputs": [],
   "source": [
    "'''9. Write a Python program to reverse the digits of a given number and add it to the original,If the sum is not a palindrome \n",
    "   repeat this procedure.\n",
    "    Data:\n",
    "        1234\n",
    "        1473\n",
    "        121\n",
    "    Expected Output:\n",
    "        5555\n",
    "        9339\n",
    "        121'''\n",
    "\n",
    "def rev_number(n):\n",
    "  s = 0\n",
    "  while True:\n",
    "    k = str(n)\n",
    "    if k == k[::-1]:\n",
    "      break\n",
    "   else:\n",
    "     m = int(k[::-1])\n",
    "     n += m\n",
    "      s += 1\n",
    "  return n \n",
    "\n",
    "print(rev_number(1234))\n",
    "print(rev_number(1473))\n"
   ]
  },
  {
   "cell_type": "code",
   "execution_count": null,
   "id": "f593446e",
   "metadata": {},
   "outputs": [],
   "source": [
    "10. Write a Python program to find the maximum sum of a contiguous subsequence from a given sequence of \n",
    "    numbers a1, a2, a3, ... an. A subsequence of one element is also a continuous subsequence.\n",
    "    Expected Output:\n",
    "        Input number of sequence of numbers you want to input (0 to exit):\n",
    "        2\n",
    "        Input numbers:\n",
    "        6\n",
    "        4\n",
    "        Maximum sum of the said contiguous subsequence:\n",
    "        10\n",
    "        Input number of sequence of numbers you want to input (0 to exit):\n",
    "        0\n",
    "        \n",
    "        \n",
    "        \n"
   ]
  },
  {
   "cell_type": "code",
   "execution_count": null,
   "id": "31b45942",
   "metadata": {},
   "outputs": [],
   "source": [
    "11. Write a Python program that reads n digits (given) chosen from 0 to 9 and prints the number of combinations \n",
    "    where the sum of the digits equals to another given number (s). Do not use the same digits in a combination. \n",
    "    Expected Output:\n",
    "        Input number of combinations and sum, input 0 0 to exit:\n",
    "        4 6\n",
    "        2 4\n",
    "        0 0\n",
    "        2\n"
   ]
  },
  {
   "cell_type": "code",
   "execution_count": null,
   "id": "a8915e6f",
   "metadata": {},
   "outputs": [],
   "source": [
    "12. Write a Python program to compute the sum of first n given prime numbers.\n",
    "    Expected Output:\n",
    "        Input a number (n≤10000) to compute the sum:(0 to exit)\n",
    "        50\n",
    "        Sum of first 50 prime numbers:\n",
    "        5117\n",
    "        3456\n",
    "        Sum of first 3456 prime numbers:\n",
    "        52238131\n",
    "        0\n"
   ]
  },
  {
   "cell_type": "code",
   "execution_count": null,
   "id": "b29b8e2f",
   "metadata": {},
   "outputs": [],
   "source": [
    "13. Write a Python program to restore the original string by entering the compressed string with this rule. However, \n",
    "    the character does not appear in the restored character string. \n",
    "    Data:\n",
    "        XY#6Z1#4023\n",
    "        #39+1=1#30\n",
    "    Expected Output:\n",
    "        Original text: XY#6Z1#4023\n",
    "        XYZZZZZZ1000023\n",
    "        Original text: #39+1=1#30\n",
    "        999+1=1000\n",
    "        \n"
   ]
  },
  {
   "cell_type": "code",
   "execution_count": null,
   "id": "7e867c34",
   "metadata": {},
   "outputs": [],
   "source": [
    "14. Write a Python program to find the number of combinations that satisfy p + q + r + s = n where n is a given \n",
    "    number <= 4000 and p, q, r, s in the range of 0 to 1000. \n",
    "    Expected Output:\n",
    "        Input a positive integer: (ctrl+d to exit)\n",
    "        343\n",
    "        Number of combinations of a,b,c,d: 6843880\n",
    "        d\n"
   ]
  },
  {
   "cell_type": "code",
   "execution_count": null,
   "id": "d68945a8",
   "metadata": {},
   "outputs": [],
   "source": [
    "15. Write a Python program which adds up columns and rows of given table as shown in the specified figure.\n",
    "    Input number of rows/columns (0 to exit)\n",
    "    Data:\n",
    "        Input cell value:\n",
    "        34 86 45 56\n",
    "        12 23 45 67\n",
    "    Expected Output:\n",
    "        Input number of rows/columns (0 to exit)\n",
    "        2\n",
    "        Input cell value:\n",
    "        34 86 45 56\n",
    "        12 23 45 67\n",
    "        Result:\n",
    "        34   86   45\n",
    "        12   23   45\n",
    "        46  109   90\n",
    "        Input number of rows/columns (0 to exit)\n",
    "        0\n"
   ]
  },
  {
   "cell_type": "code",
   "execution_count": null,
   "id": "d20674a2",
   "metadata": {},
   "outputs": [],
   "source": [
    "17. Write a Python program to check if two given numbers are coprime or not. Return True if two numbers are coprime \n",
    "    otherwise return false. Go to the editor\n",
    "    Data:\n",
    "        (17, 13)\n",
    "        (15, 21)\n",
    "        (25, 45)\n",
    "    Expected Output:\n",
    "        True\n",
    "        True\n",
    "        False\n",
    "        False\n",
    "        \n"
   ]
  },
  {
   "cell_type": "code",
   "execution_count": null,
   "id": "d66aa5e8",
   "metadata": {},
   "outputs": [],
   "source": []
  },
  {
   "cell_type": "code",
   "execution_count": null,
   "id": "822ee444",
   "metadata": {},
   "outputs": [],
   "source": []
  }
 ],
 "metadata": {
  "kernelspec": {
   "display_name": "Python 3 (ipykernel)",
   "language": "python",
   "name": "python3"
  },
  "language_info": {
   "codemirror_mode": {
    "name": "ipython",
    "version": 3
   },
   "file_extension": ".py",
   "mimetype": "text/x-python",
   "name": "python",
   "nbconvert_exporter": "python",
   "pygments_lexer": "ipython3",
   "version": "3.11.3"
  }
 },
 "nbformat": 4,
 "nbformat_minor": 5
}
