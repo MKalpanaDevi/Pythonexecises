{
 "cells": [
  {
   "cell_type": "code",
   "execution_count": null,
   "id": "3acbc085",
   "metadata": {},
   "outputs": [],
   "source": [
    "# variable declaration\n",
    "\n",
    "# printing in python\n",
    "\n",
    "# comments in python - single line , multi line \n",
    "\n",
    "# case sensitiveness"
   ]
  },
  {
   "cell_type": "markdown",
   "id": "0f2d960e",
   "metadata": {},
   "source": [
    "# variable declaration"
   ]
  },
  {
   "cell_type": "code",
   "execution_count": null,
   "id": "a67fb13c",
   "metadata": {},
   "outputs": [],
   "source": [
    "variable - where we can store the values\n",
    "\n",
    "a b c d\n",
    "\n",
    "A \n",
    "\n",
    "new\n",
    "\n",
    "new234\n",
    "\n",
    "456dghgfghd\n",
    "\n",
    "new_type\n",
    "\n",
    "new type"
   ]
  },
  {
   "cell_type": "code",
   "execution_count": 3,
   "id": "070c64af",
   "metadata": {},
   "outputs": [
    {
     "name": "stdout",
     "output_type": "stream",
     "text": [
      "10\n",
      "3.4\n",
      "python\n",
      "fita\n"
     ]
    }
   ],
   "source": [
    "a=10\n",
    "b=3.4\n",
    "c='python'\n",
    "d=\"fita\"\n",
    "\n",
    "print(a)\n",
    "print(b)\n",
    "print(c)\n",
    "print(d)\n"
   ]
  },
  {
   "cell_type": "code",
   "execution_count": null,
   "id": "bd100766",
   "metadata": {},
   "outputs": [],
   "source": [
    "datatype = data information\n",
    "\n",
    "numbers - int decimal or float , 11 2 34 , 7.8 9.0\n",
    "\n",
    "string - collection of letters \n",
    "\n",
    "'' or \" \""
   ]
  },
  {
   "cell_type": "markdown",
   "id": "8a3f4216",
   "metadata": {},
   "source": [
    "# printing in python"
   ]
  },
  {
   "cell_type": "code",
   "execution_count": 4,
   "id": "042cf3c3",
   "metadata": {},
   "outputs": [
    {
     "name": "stdout",
     "output_type": "stream",
     "text": [
      "welcome\n"
     ]
    }
   ],
   "source": [
    "print('welcome')"
   ]
  },
  {
   "cell_type": "code",
   "execution_count": 5,
   "id": "8e8c8304",
   "metadata": {},
   "outputs": [
    {
     "name": "stdout",
     "output_type": "stream",
     "text": [
      "evening\n"
     ]
    }
   ],
   "source": [
    "print(\"evening\")"
   ]
  },
  {
   "cell_type": "code",
   "execution_count": 6,
   "id": "6fe260bb",
   "metadata": {},
   "outputs": [
    {
     "name": "stdout",
     "output_type": "stream",
     "text": [
      "priya\n"
     ]
    }
   ],
   "source": [
    "name = 'priya'\n",
    "print(name)"
   ]
  },
  {
   "cell_type": "code",
   "execution_count": 7,
   "id": "84ee196f",
   "metadata": {},
   "outputs": [
    {
     "name": "stdout",
     "output_type": "stream",
     "text": [
      "27\n"
     ]
    }
   ],
   "source": [
    "age=27\n",
    "print(age)"
   ]
  },
  {
   "cell_type": "code",
   "execution_count": 8,
   "id": "8d5c032e",
   "metadata": {},
   "outputs": [
    {
     "name": "stdout",
     "output_type": "stream",
     "text": [
      "priya and her age is 27\n"
     ]
    }
   ],
   "source": [
    "print(name,'and her age is',age)"
   ]
  },
  {
   "cell_type": "code",
   "execution_count": 9,
   "id": "5d60d2b6",
   "metadata": {},
   "outputs": [
    {
     "name": "stdout",
     "output_type": "stream",
     "text": [
      "sam is studying python and got 1 rank\n"
     ]
    }
   ],
   "source": [
    "name = 'sam'\n",
    "course  ='python'\n",
    "rank =1\n",
    "\n",
    "# sam is studying python and got 1 rank\n",
    "\n",
    "print(name,'is studying',course,'and got',rank,'rank')\n",
    "\n",
    "# concatenation "
   ]
  },
  {
   "cell_type": "code",
   "execution_count": 10,
   "id": "f2166473",
   "metadata": {},
   "outputs": [
    {
     "name": "stdout",
     "output_type": "stream",
     "text": [
      "python is easy to learn\n"
     ]
    }
   ],
   "source": [
    "group='python'\n",
    "learn='learn'\n",
    "\n",
    "# python is easy to learn\n",
    "\n",
    "print(group,'is easy to',learn)\n",
    "\n"
   ]
  },
  {
   "cell_type": "code",
   "execution_count": 11,
   "id": "bbf36298",
   "metadata": {},
   "outputs": [
    {
     "name": "stdout",
     "output_type": "stream",
     "text": [
      "44\n"
     ]
    }
   ],
   "source": [
    "a=10\n",
    "b=34\n",
    "\n",
    "c=a+b\n",
    "\n",
    "print(c)\n",
    "\n",
    "\n",
    "#   +  is add , concatenation"
   ]
  },
  {
   "cell_type": "code",
   "execution_count": 14,
   "id": "e7830256",
   "metadata": {},
   "outputs": [
    {
     "name": "stdout",
     "output_type": "stream",
     "text": [
      "sachin tendulkar\n",
      "my name is sachin tendulkar\n"
     ]
    }
   ],
   "source": [
    "a=\"sachin\"\n",
    "b=\"tendulkar\"\n",
    "\n",
    "c=a+\" \"+b\n",
    "print(c)\n",
    "\n",
    "print('my name is',c)"
   ]
  },
  {
   "cell_type": "markdown",
   "id": "82d4b6c9",
   "metadata": {},
   "source": [
    "# comments"
   ]
  },
  {
   "cell_type": "code",
   "execution_count": 16,
   "id": "bb5b0349",
   "metadata": {},
   "outputs": [
    {
     "name": "stdout",
     "output_type": "stream",
     "text": [
      "10\n"
     ]
    }
   ],
   "source": [
    "# python is easy language\n",
    "\n",
    "a=10  # a is variable \n",
    "\n",
    "print(a)"
   ]
  },
  {
   "cell_type": "code",
   "execution_count": null,
   "id": "24bf66a1",
   "metadata": {},
   "outputs": [],
   "source": [
    "'''\n",
    "    Python works on different platforms (Windows, Mac, Linux, Raspberry Pi, etc).\n",
    "    Python has a simple syntax similar to the English language.\n",
    "    Python has syntax that allows developers to write programs with fewer lines than some other programming languages.\n",
    "    Python runs on an interpreter system, meaning that code can be executed as soon as it is written. This means that prototyping can be very quick.\n",
    "    Python can be treated in a procedural way, an object-oriented way or a functional way.\n",
    "'''"
   ]
  },
  {
   "cell_type": "markdown",
   "id": "10a32234",
   "metadata": {},
   "source": [
    "# case senstiveness"
   ]
  },
  {
   "cell_type": "code",
   "execution_count": 17,
   "id": "cf75fa4a",
   "metadata": {},
   "outputs": [
    {
     "name": "stdout",
     "output_type": "stream",
     "text": [
      "10\n",
      "20\n"
     ]
    }
   ],
   "source": [
    "a=10\n",
    "A=20\n",
    "\n",
    "print(a)\n",
    "print(A)"
   ]
  },
  {
   "cell_type": "code",
   "execution_count": 18,
   "id": "1956817b",
   "metadata": {},
   "outputs": [
    {
     "name": "stdout",
     "output_type": "stream",
     "text": [
      "chennai\n"
     ]
    }
   ],
   "source": [
    "print('chennai')"
   ]
  },
  {
   "cell_type": "code",
   "execution_count": 19,
   "id": "c8967d93",
   "metadata": {},
   "outputs": [
    {
     "ename": "NameError",
     "evalue": "name 'Print' is not defined",
     "output_type": "error",
     "traceback": [
      "\u001b[1;31m---------------------------------------------------------------------------\u001b[0m",
      "\u001b[1;31mNameError\u001b[0m                                 Traceback (most recent call last)",
      "Input \u001b[1;32mIn [19]\u001b[0m, in \u001b[0;36m<cell line: 1>\u001b[1;34m()\u001b[0m\n\u001b[1;32m----> 1\u001b[0m \u001b[43mPrint\u001b[49m(\u001b[38;5;124m'\u001b[39m\u001b[38;5;124mdelhi\u001b[39m\u001b[38;5;124m'\u001b[39m)\n",
      "\u001b[1;31mNameError\u001b[0m: name 'Print' is not defined"
     ]
    }
   ],
   "source": [
    "Print('delhi')"
   ]
  },
  {
   "cell_type": "code",
   "execution_count": null,
   "id": "22b1bbe8",
   "metadata": {},
   "outputs": [],
   "source": [
    "uppercase lowercase camelcas\n",
    "\n",
    "ASFDFDFD anjdfndfbdf  Animal"
   ]
  },
  {
   "cell_type": "markdown",
   "id": "bf5efaa0",
   "metadata": {},
   "source": [
    "# whitespace"
   ]
  },
  {
   "cell_type": "code",
   "execution_count": 20,
   "id": "48b7ff06",
   "metadata": {},
   "outputs": [
    {
     "name": "stdout",
     "output_type": "stream",
     "text": [
      "10\n"
     ]
    }
   ],
   "source": [
    "a=10\n",
    "print(a)"
   ]
  },
  {
   "cell_type": "code",
   "execution_count": 21,
   "id": "c96400ea",
   "metadata": {},
   "outputs": [
    {
     "name": "stdout",
     "output_type": "stream",
     "text": [
      "45\n"
     ]
    }
   ],
   "source": [
    "a=              45\n",
    "\n",
    "print(a)"
   ]
  },
  {
   "cell_type": "code",
   "execution_count": 22,
   "id": "566ce11b",
   "metadata": {},
   "outputs": [
    {
     "name": "stdout",
     "output_type": "stream",
     "text": [
      "     priya\n"
     ]
    }
   ],
   "source": [
    "name =\"     priya\"\n",
    "\n",
    "print(name)"
   ]
  },
  {
   "cell_type": "code",
   "execution_count": null,
   "id": "779624ef",
   "metadata": {},
   "outputs": [],
   "source": [
    "# knowing the datatype"
   ]
  },
  {
   "cell_type": "code",
   "execution_count": 23,
   "id": "2ea0cab6",
   "metadata": {},
   "outputs": [
    {
     "name": "stdout",
     "output_type": "stream",
     "text": [
      "10\n"
     ]
    }
   ],
   "source": [
    "a=10\n",
    "\n",
    "print(a)"
   ]
  },
  {
   "cell_type": "code",
   "execution_count": 24,
   "id": "e55c5960",
   "metadata": {},
   "outputs": [
    {
     "data": {
      "text/plain": [
       "int"
      ]
     },
     "execution_count": 24,
     "metadata": {},
     "output_type": "execute_result"
    }
   ],
   "source": [
    "type(a)"
   ]
  },
  {
   "cell_type": "code",
   "execution_count": 25,
   "id": "e5cca96f",
   "metadata": {},
   "outputs": [
    {
     "name": "stdout",
     "output_type": "stream",
     "text": [
      "<class 'float'>\n"
     ]
    }
   ],
   "source": [
    "b=5.6\n",
    "print(type(b))"
   ]
  },
  {
   "cell_type": "code",
   "execution_count": 26,
   "id": "212bf5c9",
   "metadata": {},
   "outputs": [
    {
     "data": {
      "text/plain": [
       "str"
      ]
     },
     "execution_count": 26,
     "metadata": {},
     "output_type": "execute_result"
    }
   ],
   "source": [
    "c=\"fita\"\n",
    "\n",
    "type(c)"
   ]
  },
  {
   "cell_type": "code",
   "execution_count": null,
   "id": "f2630888",
   "metadata": {},
   "outputs": [],
   "source": []
  },
  {
   "cell_type": "code",
   "execution_count": null,
   "id": "e298783f",
   "metadata": {},
   "outputs": [],
   "source": []
  }
 ],
 "metadata": {
  "kernelspec": {
   "display_name": "Python 3 (ipykernel)",
   "language": "python",
   "name": "python3"
  },
  "language_info": {
   "codemirror_mode": {
    "name": "ipython",
    "version": 3
   },
   "file_extension": ".py",
   "mimetype": "text/x-python",
   "name": "python",
   "nbconvert_exporter": "python",
   "pygments_lexer": "ipython3",
   "version": "3.11.3"
  }
 },
 "nbformat": 4,
 "nbformat_minor": 5
}
